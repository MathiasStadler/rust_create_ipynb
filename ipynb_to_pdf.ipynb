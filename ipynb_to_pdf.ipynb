{
 "cells": [
  {
   "cell_type": "markdown",
   "metadata": {},
   "source": [
    "# convert ipynb to pdf on command line"
   ]
  },
  {
   "cell_type": "markdown",
   "metadata": {},
   "source": [
    "[[TOC]]"
   ]
  },
  {
   "cell_type": "markdown",
   "metadata": {},
   "source": [
    "- test on\n",
    "\n",
    "```bash\n",
    "PRETTY_NAME=\"Ubuntu 22.04.4 LTS\"\n",
    "NAME=\"Ubuntu\"\n",
    "VERSION_ID=\"22.04\"\n",
    "VERSION=\"22.04.4 LTS (Jammy Jellyfish)\"\n",
    "VERSION_CODENAME=jammy\n",
    "ID=ubuntu\n",
    "ID_LIKE=debian\n",
    "HOME_URL=\"https://www.ubuntu.com/\"\n",
    "SUPPORT_URL=\"https://help.ubuntu.com/\"\n",
    "BUG_REPORT_URL=\"https://bugs.launchpad.net/ubuntu/\"\n",
    "PRIVACY_POLICY_URL=\"https://www.ubuntu.com/legal/terms-and-policies/privacy-policy\"\n",
    "UBUNTU_CODENAME=jammy\n",
    "```\n"
   ]
  },
  {
   "cell_type": "markdown",
   "metadata": {},
   "source": [
    "- [nice bash tut](https://www.freecodecamp.org/news/bash-scripting-tutorial-linux-shell-script-and-command-line-for-beginners/)"
   ]
  },
  {
   "cell_type": "markdown",
   "metadata": {},
   "source": [
    "- install python as root\n",
    "\n",
    "```bash\n",
    "#!/bin/bash -e\n",
    "apt update\n",
    "apt install python3\n",
    "```\n",
    "\n",
    "- [install Tex](https://nbconvert.readthedocs.io/en/latest/install.html#installing-tex)"
   ]
  },
  {
   "cell_type": "markdown",
   "metadata": {},
   "source": [
    "# install nbconvert\n",
    "\n",
    "- create first env\n",
    "  -- [tutorial create env](https://docs.python.org/3/tutorial/venv.html)\n",
    "\n",
    "```bash\n",
    "python3 -m venv ipynb-to-pdf\n",
    "source ipynb-to-pdf/bin/activate\n",
    "```\n",
    "\n",
    "- install nbconvert\n",
    "\n",
    "```bash\n",
    "pip install nbconvert\n",
    "```\n",
    "\n",
    "- install\n",
    "\n",
    "```bash\n",
    "pip install jupyter_contrib_nbextensions\n",
    "```\n",
    "\n",
    "- fix installation\n",
    "\n",
    "```bash\n",
    "# history -w /dev/stdin\n",
    "source ipynb-to-pdf/bin/activate\n",
    "pip install --upgrade notebook==6.4.12\n",
    "pip uninstall traitlets\n",
    "pip install traitlets==5.9.0\n",
    "\n",
    "```\n"
   ]
  },
  {
   "cell_type": "markdown",
   "metadata": {},
   "source": [
    "# nbconvert to pdf\n",
    "\n",
    "```bash\n",
    "\n",
    "```"
   ]
  }
 ],
 "metadata": {
  "kernelspec": {
   "display_name": "Rust",
   "language": "rust",
   "name": "rust"
  },
  "language_info": {
   "name": "rust"
  }
 },
 "nbformat": 4,
 "nbformat_minor": 2
}
